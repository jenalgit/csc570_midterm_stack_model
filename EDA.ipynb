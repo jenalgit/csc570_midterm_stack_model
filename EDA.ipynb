{
 "cells": [
  {
   "cell_type": "markdown",
   "metadata": {},
   "source": [
    "## EDA For Midterm assignment"
   ]
  },
  {
   "cell_type": "code",
   "execution_count": 1,
   "metadata": {
    "collapsed": false
   },
   "outputs": [
    {
     "name": "stderr",
     "output_type": "stream",
     "text": [
      "/home/mike/anaconda/lib/python3.5/site-packages/sklearn/cross_validation.py:44: DeprecationWarning: This module was deprecated in version 0.18 in favor of the model_selection module into which all the refactored classes and functions are moved. Also note that the interface of the new CV iterators are different from that of this module. This module will be removed in 0.20.\n",
      "  \"This module will be removed in 0.20.\", DeprecationWarning)\n"
     ]
    }
   ],
   "source": [
    "import pandas as pd\n",
    "\n",
    "import seaborn as sns\n",
    "import matplotlib.pyplot as plt\n",
    "from sklearn.cross_validation import train_test_split\n",
    "import random\n",
    "\n",
    "%matplotlib inline"
   ]
  },
  {
   "cell_type": "code",
   "execution_count": 3,
   "metadata": {
    "collapsed": false
   },
   "outputs": [],
   "source": [
    "df = pd.read_csv('./data/midterm_train.csv')\n",
    "y = df.pop('y')"
   ]
  },
  {
   "cell_type": "code",
   "execution_count": 4,
   "metadata": {
    "collapsed": false
   },
   "outputs": [
    {
     "data": {
      "text/html": [
       "<div>\n",
       "<table border=\"1\" class=\"dataframe\">\n",
       "  <thead>\n",
       "    <tr style=\"text-align: right;\">\n",
       "      <th></th>\n",
       "      <th>x0</th>\n",
       "      <th>x1</th>\n",
       "      <th>x2</th>\n",
       "      <th>x3</th>\n",
       "      <th>x4</th>\n",
       "      <th>x5</th>\n",
       "      <th>x6</th>\n",
       "      <th>x7</th>\n",
       "      <th>x8</th>\n",
       "      <th>x9</th>\n",
       "      <th>...</th>\n",
       "      <th>x40</th>\n",
       "      <th>x41</th>\n",
       "      <th>x42</th>\n",
       "      <th>x43</th>\n",
       "      <th>x44</th>\n",
       "      <th>x45</th>\n",
       "      <th>x46</th>\n",
       "      <th>x47</th>\n",
       "      <th>x48</th>\n",
       "      <th>x49</th>\n",
       "    </tr>\n",
       "  </thead>\n",
       "  <tbody>\n",
       "    <tr>\n",
       "      <th>0</th>\n",
       "      <td>-5.900707</td>\n",
       "      <td>0.469389</td>\n",
       "      <td>4.733068</td>\n",
       "      <td>9.223027</td>\n",
       "      <td>3.170787</td>\n",
       "      <td>0.024669</td>\n",
       "      <td>-2.055880</td>\n",
       "      <td>-2.045466</td>\n",
       "      <td>3.004170</td>\n",
       "      <td>0.02%</td>\n",
       "      <td>...</td>\n",
       "      <td>-5.335641</td>\n",
       "      <td>-3.694592</td>\n",
       "      <td>-1.008670</td>\n",
       "      <td>wednesday</td>\n",
       "      <td>$-180.16</td>\n",
       "      <td>1.236134</td>\n",
       "      <td>4.462951</td>\n",
       "      <td>4.592803</td>\n",
       "      <td>-0.034478</td>\n",
       "      <td>3.680401</td>\n",
       "    </tr>\n",
       "    <tr>\n",
       "      <th>1</th>\n",
       "      <td>-3.530391</td>\n",
       "      <td>4.229818</td>\n",
       "      <td>-4.619433</td>\n",
       "      <td>2.154913</td>\n",
       "      <td>5.619903</td>\n",
       "      <td>-1.955667</td>\n",
       "      <td>7.713001</td>\n",
       "      <td>-1.279395</td>\n",
       "      <td>14.941269</td>\n",
       "      <td>0.0%</td>\n",
       "      <td>...</td>\n",
       "      <td>-8.490805</td>\n",
       "      <td>6.414948</td>\n",
       "      <td>5.831287</td>\n",
       "      <td>tuesday</td>\n",
       "      <td>$432.31</td>\n",
       "      <td>-6.570015</td>\n",
       "      <td>-5.308026</td>\n",
       "      <td>-5.462467</td>\n",
       "      <td>-0.229518</td>\n",
       "      <td>-2.332947</td>\n",
       "    </tr>\n",
       "    <tr>\n",
       "      <th>2</th>\n",
       "      <td>1.003389</td>\n",
       "      <td>-0.012547</td>\n",
       "      <td>6.250503</td>\n",
       "      <td>3.368675</td>\n",
       "      <td>1.711321</td>\n",
       "      <td>6.192718</td>\n",
       "      <td>4.166159</td>\n",
       "      <td>-0.363055</td>\n",
       "      <td>15.175681</td>\n",
       "      <td>-0.01%</td>\n",
       "      <td>...</td>\n",
       "      <td>-4.172583</td>\n",
       "      <td>0.371862</td>\n",
       "      <td>-7.025987</td>\n",
       "      <td>wednesday</td>\n",
       "      <td>$-119.17</td>\n",
       "      <td>-66.851394</td>\n",
       "      <td>-11.084558</td>\n",
       "      <td>-11.407072</td>\n",
       "      <td>6.395551</td>\n",
       "      <td>3.545332</td>\n",
       "    </tr>\n",
       "    <tr>\n",
       "      <th>3</th>\n",
       "      <td>-16.041769</td>\n",
       "      <td>-3.243507</td>\n",
       "      <td>-0.546649</td>\n",
       "      <td>-11.594427</td>\n",
       "      <td>5.111965</td>\n",
       "      <td>0.609785</td>\n",
       "      <td>-1.540136</td>\n",
       "      <td>-1.227567</td>\n",
       "      <td>-16.460535</td>\n",
       "      <td>-0.0%</td>\n",
       "      <td>...</td>\n",
       "      <td>1.666316</td>\n",
       "      <td>-2.920478</td>\n",
       "      <td>-2.135088</td>\n",
       "      <td>thurday</td>\n",
       "      <td>$-1309.54</td>\n",
       "      <td>0.442939</td>\n",
       "      <td>11.808383</td>\n",
       "      <td>12.151957</td>\n",
       "      <td>-2.923916</td>\n",
       "      <td>-1.471336</td>\n",
       "    </tr>\n",
       "    <tr>\n",
       "      <th>4</th>\n",
       "      <td>20.498575</td>\n",
       "      <td>10.766191</td>\n",
       "      <td>1.478032</td>\n",
       "      <td>-5.723594</td>\n",
       "      <td>-0.768839</td>\n",
       "      <td>-3.482515</td>\n",
       "      <td>-11.169389</td>\n",
       "      <td>-0.361478</td>\n",
       "      <td>2.194909</td>\n",
       "      <td>-0.02%</td>\n",
       "      <td>...</td>\n",
       "      <td>-0.757455</td>\n",
       "      <td>-1.769904</td>\n",
       "      <td>-0.532896</td>\n",
       "      <td>wednesday</td>\n",
       "      <td>$-1103.32</td>\n",
       "      <td>61.136654</td>\n",
       "      <td>48.077895</td>\n",
       "      <td>49.476758</td>\n",
       "      <td>1.043061</td>\n",
       "      <td>9.927952</td>\n",
       "    </tr>\n",
       "  </tbody>\n",
       "</table>\n",
       "<p>5 rows × 50 columns</p>\n",
       "</div>"
      ],
      "text/plain": [
       "          x0         x1        x2         x3        x4        x5         x6  \\\n",
       "0  -5.900707   0.469389  4.733068   9.223027  3.170787  0.024669  -2.055880   \n",
       "1  -3.530391   4.229818 -4.619433   2.154913  5.619903 -1.955667   7.713001   \n",
       "2   1.003389  -0.012547  6.250503   3.368675  1.711321  6.192718   4.166159   \n",
       "3 -16.041769  -3.243507 -0.546649 -11.594427  5.111965  0.609785  -1.540136   \n",
       "4  20.498575  10.766191  1.478032  -5.723594 -0.768839 -3.482515 -11.169389   \n",
       "\n",
       "         x7         x8      x9    ...          x40       x41       x42  \\\n",
       "0 -2.045466   3.004170   0.02%    ...    -5.335641 -3.694592 -1.008670   \n",
       "1 -1.279395  14.941269    0.0%    ...    -8.490805  6.414948  5.831287   \n",
       "2 -0.363055  15.175681  -0.01%    ...    -4.172583  0.371862 -7.025987   \n",
       "3 -1.227567 -16.460535   -0.0%    ...     1.666316 -2.920478 -2.135088   \n",
       "4 -0.361478   2.194909  -0.02%    ...    -0.757455 -1.769904 -0.532896   \n",
       "\n",
       "         x43        x44        x45        x46        x47       x48       x49  \n",
       "0  wednesday   $-180.16   1.236134   4.462951   4.592803 -0.034478  3.680401  \n",
       "1    tuesday    $432.31  -6.570015  -5.308026  -5.462467 -0.229518 -2.332947  \n",
       "2  wednesday   $-119.17 -66.851394 -11.084558 -11.407072  6.395551  3.545332  \n",
       "3    thurday  $-1309.54   0.442939  11.808383  12.151957 -2.923916 -1.471336  \n",
       "4  wednesday  $-1103.32  61.136654  48.077895  49.476758  1.043061  9.927952  \n",
       "\n",
       "[5 rows x 50 columns]"
      ]
     },
     "execution_count": 4,
     "metadata": {},
     "output_type": "execute_result"
    }
   ],
   "source": [
    "df.head()"
   ]
  },
  {
   "cell_type": "code",
   "execution_count": 5,
   "metadata": {
    "collapsed": false
   },
   "outputs": [
    {
     "data": {
      "text/html": [
       "<div>\n",
       "<table border=\"1\" class=\"dataframe\">\n",
       "  <thead>\n",
       "    <tr style=\"text-align: right;\">\n",
       "      <th></th>\n",
       "      <th>x0</th>\n",
       "      <th>x1</th>\n",
       "      <th>x2</th>\n",
       "      <th>x3</th>\n",
       "      <th>x4</th>\n",
       "      <th>x5</th>\n",
       "      <th>x6</th>\n",
       "      <th>x7</th>\n",
       "      <th>x8</th>\n",
       "      <th>x10</th>\n",
       "      <th>...</th>\n",
       "      <th>x38</th>\n",
       "      <th>x39</th>\n",
       "      <th>x40</th>\n",
       "      <th>x41</th>\n",
       "      <th>x42</th>\n",
       "      <th>x45</th>\n",
       "      <th>x46</th>\n",
       "      <th>x47</th>\n",
       "      <th>x48</th>\n",
       "      <th>x49</th>\n",
       "    </tr>\n",
       "  </thead>\n",
       "  <tbody>\n",
       "    <tr>\n",
       "      <th>count</th>\n",
       "      <td>159964.000000</td>\n",
       "      <td>159973.000000</td>\n",
       "      <td>159973.000000</td>\n",
       "      <td>159963.000000</td>\n",
       "      <td>159969.000000</td>\n",
       "      <td>159971.000000</td>\n",
       "      <td>159973.000000</td>\n",
       "      <td>159974.000000</td>\n",
       "      <td>159965.000000</td>\n",
       "      <td>159962.000000</td>\n",
       "      <td>...</td>\n",
       "      <td>159960.000000</td>\n",
       "      <td>159952.000000</td>\n",
       "      <td>159969.000000</td>\n",
       "      <td>159980.000000</td>\n",
       "      <td>159965.000000</td>\n",
       "      <td>159972.000000</td>\n",
       "      <td>159974.000000</td>\n",
       "      <td>159970.000000</td>\n",
       "      <td>159974.000000</td>\n",
       "      <td>159974.000000</td>\n",
       "    </tr>\n",
       "    <tr>\n",
       "      <th>mean</th>\n",
       "      <td>1.540669</td>\n",
       "      <td>2.020926</td>\n",
       "      <td>0.007805</td>\n",
       "      <td>2.471131</td>\n",
       "      <td>0.004914</td>\n",
       "      <td>0.100313</td>\n",
       "      <td>0.020943</td>\n",
       "      <td>0.000992</td>\n",
       "      <td>0.004064</td>\n",
       "      <td>-0.004841</td>\n",
       "      <td>...</td>\n",
       "      <td>-0.010644</td>\n",
       "      <td>0.019918</td>\n",
       "      <td>-0.014515</td>\n",
       "      <td>-0.004971</td>\n",
       "      <td>0.006440</td>\n",
       "      <td>0.882868</td>\n",
       "      <td>0.070251</td>\n",
       "      <td>0.072817</td>\n",
       "      <td>-0.004404</td>\n",
       "      <td>-0.004627</td>\n",
       "    </tr>\n",
       "    <tr>\n",
       "      <th>std</th>\n",
       "      <td>16.401459</td>\n",
       "      <td>7.462316</td>\n",
       "      <td>6.806854</td>\n",
       "      <td>9.624773</td>\n",
       "      <td>6.275538</td>\n",
       "      <td>2.173207</td>\n",
       "      <td>7.753960</td>\n",
       "      <td>2.414990</td>\n",
       "      <td>9.165963</td>\n",
       "      <td>2.845066</td>\n",
       "      <td>...</td>\n",
       "      <td>8.982346</td>\n",
       "      <td>6.698498</td>\n",
       "      <td>4.973109</td>\n",
       "      <td>5.428919</td>\n",
       "      <td>6.743532</td>\n",
       "      <td>23.987879</td>\n",
       "      <td>17.732750</td>\n",
       "      <td>18.248654</td>\n",
       "      <td>4.468600</td>\n",
       "      <td>3.610345</td>\n",
       "    </tr>\n",
       "    <tr>\n",
       "      <th>min</th>\n",
       "      <td>-68.981217</td>\n",
       "      <td>-31.258618</td>\n",
       "      <td>-30.506154</td>\n",
       "      <td>-36.350492</td>\n",
       "      <td>-27.575136</td>\n",
       "      <td>-13.677304</td>\n",
       "      <td>-32.781282</td>\n",
       "      <td>-11.615171</td>\n",
       "      <td>-38.961689</td>\n",
       "      <td>-11.978764</td>\n",
       "      <td>...</td>\n",
       "      <td>-39.316884</td>\n",
       "      <td>-27.076148</td>\n",
       "      <td>-23.265768</td>\n",
       "      <td>-24.602106</td>\n",
       "      <td>-32.319316</td>\n",
       "      <td>-121.292948</td>\n",
       "      <td>-72.694807</td>\n",
       "      <td>-74.809917</td>\n",
       "      <td>-20.696774</td>\n",
       "      <td>-16.991354</td>\n",
       "    </tr>\n",
       "    <tr>\n",
       "      <th>25%</th>\n",
       "      <td>-9.450919</td>\n",
       "      <td>-2.890069</td>\n",
       "      <td>-4.609020</td>\n",
       "      <td>-4.029733</td>\n",
       "      <td>-4.225946</td>\n",
       "      <td>-1.375403</td>\n",
       "      <td>-5.197125</td>\n",
       "      <td>-1.639263</td>\n",
       "      <td>-6.159416</td>\n",
       "      <td>-1.921991</td>\n",
       "      <td>...</td>\n",
       "      <td>-6.067157</td>\n",
       "      <td>-4.508069</td>\n",
       "      <td>-3.381291</td>\n",
       "      <td>-3.668357</td>\n",
       "      <td>-4.523615</td>\n",
       "      <td>-14.596689</td>\n",
       "      <td>-12.239755</td>\n",
       "      <td>-12.595786</td>\n",
       "      <td>-3.020220</td>\n",
       "      <td>-2.438833</td>\n",
       "    </tr>\n",
       "    <tr>\n",
       "      <th>50%</th>\n",
       "      <td>1.841792</td>\n",
       "      <td>2.202444</td>\n",
       "      <td>0.010002</td>\n",
       "      <td>2.584225</td>\n",
       "      <td>-0.005805</td>\n",
       "      <td>0.058102</td>\n",
       "      <td>-0.017482</td>\n",
       "      <td>0.000816</td>\n",
       "      <td>0.244471</td>\n",
       "      <td>-0.001742</td>\n",
       "      <td>...</td>\n",
       "      <td>0.039189</td>\n",
       "      <td>0.027664</td>\n",
       "      <td>0.001465</td>\n",
       "      <td>-0.017824</td>\n",
       "      <td>0.010728</td>\n",
       "      <td>0.890783</td>\n",
       "      <td>-0.449057</td>\n",
       "      <td>-0.462448</td>\n",
       "      <td>-0.000494</td>\n",
       "      <td>-0.001601</td>\n",
       "    </tr>\n",
       "    <tr>\n",
       "      <th>75%</th>\n",
       "      <td>12.786656</td>\n",
       "      <td>7.002078</td>\n",
       "      <td>4.623164</td>\n",
       "      <td>9.015845</td>\n",
       "      <td>4.256802</td>\n",
       "      <td>1.550611</td>\n",
       "      <td>5.268370</td>\n",
       "      <td>1.627674</td>\n",
       "      <td>6.257305</td>\n",
       "      <td>1.918158</td>\n",
       "      <td>...</td>\n",
       "      <td>6.044008</td>\n",
       "      <td>4.550137</td>\n",
       "      <td>3.344760</td>\n",
       "      <td>3.649917</td>\n",
       "      <td>4.562162</td>\n",
       "      <td>16.559588</td>\n",
       "      <td>11.987409</td>\n",
       "      <td>12.336756</td>\n",
       "      <td>3.003253</td>\n",
       "      <td>2.424888</td>\n",
       "    </tr>\n",
       "    <tr>\n",
       "      <th>max</th>\n",
       "      <td>70.882303</td>\n",
       "      <td>39.193550</td>\n",
       "      <td>28.699898</td>\n",
       "      <td>47.313496</td>\n",
       "      <td>28.571894</td>\n",
       "      <td>10.006106</td>\n",
       "      <td>34.460095</td>\n",
       "      <td>10.794778</td>\n",
       "      <td>39.216249</td>\n",
       "      <td>13.644499</td>\n",
       "      <td>...</td>\n",
       "      <td>42.025025</td>\n",
       "      <td>29.862557</td>\n",
       "      <td>23.132292</td>\n",
       "      <td>22.938242</td>\n",
       "      <td>28.980718</td>\n",
       "      <td>136.368013</td>\n",
       "      <td>77.429817</td>\n",
       "      <td>79.682696</td>\n",
       "      <td>19.217507</td>\n",
       "      <td>15.117022</td>\n",
       "    </tr>\n",
       "  </tbody>\n",
       "</table>\n",
       "<p>8 rows × 45 columns</p>\n",
       "</div>"
      ],
      "text/plain": [
       "                  x0             x1             x2             x3  \\\n",
       "count  159964.000000  159973.000000  159973.000000  159963.000000   \n",
       "mean        1.540669       2.020926       0.007805       2.471131   \n",
       "std        16.401459       7.462316       6.806854       9.624773   \n",
       "min       -68.981217     -31.258618     -30.506154     -36.350492   \n",
       "25%        -9.450919      -2.890069      -4.609020      -4.029733   \n",
       "50%         1.841792       2.202444       0.010002       2.584225   \n",
       "75%        12.786656       7.002078       4.623164       9.015845   \n",
       "max        70.882303      39.193550      28.699898      47.313496   \n",
       "\n",
       "                  x4             x5             x6             x7  \\\n",
       "count  159969.000000  159971.000000  159973.000000  159974.000000   \n",
       "mean        0.004914       0.100313       0.020943       0.000992   \n",
       "std         6.275538       2.173207       7.753960       2.414990   \n",
       "min       -27.575136     -13.677304     -32.781282     -11.615171   \n",
       "25%        -4.225946      -1.375403      -5.197125      -1.639263   \n",
       "50%        -0.005805       0.058102      -0.017482       0.000816   \n",
       "75%         4.256802       1.550611       5.268370       1.627674   \n",
       "max        28.571894      10.006106      34.460095      10.794778   \n",
       "\n",
       "                  x8            x10      ...                  x38  \\\n",
       "count  159965.000000  159962.000000      ...        159960.000000   \n",
       "mean        0.004064      -0.004841      ...            -0.010644   \n",
       "std         9.165963       2.845066      ...             8.982346   \n",
       "min       -38.961689     -11.978764      ...           -39.316884   \n",
       "25%        -6.159416      -1.921991      ...            -6.067157   \n",
       "50%         0.244471      -0.001742      ...             0.039189   \n",
       "75%         6.257305       1.918158      ...             6.044008   \n",
       "max        39.216249      13.644499      ...            42.025025   \n",
       "\n",
       "                 x39            x40            x41            x42  \\\n",
       "count  159952.000000  159969.000000  159980.000000  159965.000000   \n",
       "mean        0.019918      -0.014515      -0.004971       0.006440   \n",
       "std         6.698498       4.973109       5.428919       6.743532   \n",
       "min       -27.076148     -23.265768     -24.602106     -32.319316   \n",
       "25%        -4.508069      -3.381291      -3.668357      -4.523615   \n",
       "50%         0.027664       0.001465      -0.017824       0.010728   \n",
       "75%         4.550137       3.344760       3.649917       4.562162   \n",
       "max        29.862557      23.132292      22.938242      28.980718   \n",
       "\n",
       "                 x45            x46            x47            x48  \\\n",
       "count  159972.000000  159974.000000  159970.000000  159974.000000   \n",
       "mean        0.882868       0.070251       0.072817      -0.004404   \n",
       "std        23.987879      17.732750      18.248654       4.468600   \n",
       "min      -121.292948     -72.694807     -74.809917     -20.696774   \n",
       "25%       -14.596689     -12.239755     -12.595786      -3.020220   \n",
       "50%         0.890783      -0.449057      -0.462448      -0.000494   \n",
       "75%        16.559588      11.987409      12.336756       3.003253   \n",
       "max       136.368013      77.429817      79.682696      19.217507   \n",
       "\n",
       "                 x49  \n",
       "count  159974.000000  \n",
       "mean       -0.004627  \n",
       "std         3.610345  \n",
       "min       -16.991354  \n",
       "25%        -2.438833  \n",
       "50%        -0.001601  \n",
       "75%         2.424888  \n",
       "max        15.117022  \n",
       "\n",
       "[8 rows x 45 columns]"
      ]
     },
     "execution_count": 5,
     "metadata": {},
     "output_type": "execute_result"
    }
   ],
   "source": [
    "df.describe()\n",
    "# Things I see here include 45 variables summarized and 50 variables above.  That must mean 5 non numeric fields"
   ]
  },
  {
   "cell_type": "code",
   "execution_count": 6,
   "metadata": {
    "collapsed": false
   },
   "outputs": [
    {
     "data": {
      "text/plain": [
       "(160000, 45)"
      ]
     },
     "execution_count": 6,
     "metadata": {},
     "output_type": "execute_result"
    }
   ],
   "source": [
    "# numeric variables\n",
    "numeric_variables = list(df.dtypes[df.dtypes != \"object\"].index)\n",
    "df[numeric_variables].shape"
   ]
  },
  {
   "cell_type": "code",
   "execution_count": 7,
   "metadata": {
    "collapsed": false
   },
   "outputs": [
    {
     "data": {
      "text/plain": [
       "(160000, 5)"
      ]
     },
     "execution_count": 7,
     "metadata": {},
     "output_type": "execute_result"
    }
   ],
   "source": [
    "# non numeric variables\n",
    "categorical_variables = list(df.dtypes[df.dtypes == 'object'].index)\n",
    "df[categorical_variables].shape"
   ]
  },
  {
   "cell_type": "code",
   "execution_count": 8,
   "metadata": {
    "collapsed": false
   },
   "outputs": [
    {
     "data": {
      "text/html": [
       "<div>\n",
       "<table border=\"1\" class=\"dataframe\">\n",
       "  <thead>\n",
       "    <tr style=\"text-align: right;\">\n",
       "      <th></th>\n",
       "      <th>x9</th>\n",
       "      <th>x16</th>\n",
       "      <th>x19</th>\n",
       "      <th>x43</th>\n",
       "      <th>x44</th>\n",
       "    </tr>\n",
       "  </thead>\n",
       "  <tbody>\n",
       "    <tr>\n",
       "      <th>0</th>\n",
       "      <td>0.02%</td>\n",
       "      <td>asia</td>\n",
       "      <td>Jun</td>\n",
       "      <td>wednesday</td>\n",
       "      <td>$-180.16</td>\n",
       "    </tr>\n",
       "    <tr>\n",
       "      <th>1</th>\n",
       "      <td>0.0%</td>\n",
       "      <td>asia</td>\n",
       "      <td>Jun</td>\n",
       "      <td>tuesday</td>\n",
       "      <td>$432.31</td>\n",
       "    </tr>\n",
       "    <tr>\n",
       "      <th>2</th>\n",
       "      <td>-0.01%</td>\n",
       "      <td>asia</td>\n",
       "      <td>July</td>\n",
       "      <td>wednesday</td>\n",
       "      <td>$-119.17</td>\n",
       "    </tr>\n",
       "    <tr>\n",
       "      <th>3</th>\n",
       "      <td>-0.0%</td>\n",
       "      <td>asia</td>\n",
       "      <td>Aug</td>\n",
       "      <td>thurday</td>\n",
       "      <td>$-1309.54</td>\n",
       "    </tr>\n",
       "    <tr>\n",
       "      <th>4</th>\n",
       "      <td>-0.02%</td>\n",
       "      <td>euorpe</td>\n",
       "      <td>May</td>\n",
       "      <td>wednesday</td>\n",
       "      <td>$-1103.32</td>\n",
       "    </tr>\n",
       "  </tbody>\n",
       "</table>\n",
       "</div>"
      ],
      "text/plain": [
       "       x9     x16   x19        x43        x44\n",
       "0   0.02%    asia   Jun  wednesday   $-180.16\n",
       "1    0.0%    asia   Jun    tuesday    $432.31\n",
       "2  -0.01%    asia  July  wednesday   $-119.17\n",
       "3   -0.0%    asia   Aug    thurday  $-1309.54\n",
       "4  -0.02%  euorpe   May  wednesday  $-1103.32"
      ]
     },
     "execution_count": 8,
     "metadata": {},
     "output_type": "execute_result"
    }
   ],
   "source": [
    "# taking a quick look at the categoricals\n",
    "df[categorical_variables].head()"
   ]
  },
  {
   "cell_type": "code",
   "execution_count": 10,
   "metadata": {
    "collapsed": false
   },
   "outputs": [
    {
     "data": {
      "text/plain": [
       "asia       138509\n",
       "america     12146\n",
       "euorpe       9309\n",
       "Name: x16, dtype: int64"
      ]
     },
     "execution_count": 10,
     "metadata": {},
     "output_type": "execute_result"
    }
   ],
   "source": [
    "df['x16'].value_counts()"
   ]
  },
  {
   "cell_type": "code",
   "execution_count": 11,
   "metadata": {
    "collapsed": false
   },
   "outputs": [
    {
     "data": {
      "text/plain": [
       "Jun        44659\n",
       "July       42410\n",
       "May        27535\n",
       "Aug        23909\n",
       "Apr         9945\n",
       "sept.       7522\n",
       "Mar         2030\n",
       "Oct         1508\n",
       "Feb          264\n",
       "Nov          160\n",
       "January       18\n",
       "Dev           11\n",
       "Name: x19, dtype: int64"
      ]
     },
     "execution_count": 11,
     "metadata": {},
     "output_type": "execute_result"
    }
   ],
   "source": [
    "df['x19'].value_counts()"
   ]
  },
  {
   "cell_type": "code",
   "execution_count": 12,
   "metadata": {
    "collapsed": false
   },
   "outputs": [
    {
     "data": {
      "text/plain": [
       "wednesday    101016\n",
       "thurday       31969\n",
       "tuesday       25955\n",
       "friday          562\n",
       "monday          471\n",
       "Name: x43, dtype: int64"
      ]
     },
     "execution_count": 12,
     "metadata": {},
     "output_type": "execute_result"
    }
   ],
   "source": [
    "df['x43'].value_counts()"
   ]
  },
  {
   "cell_type": "code",
   "execution_count": 11,
   "metadata": {
    "collapsed": false
   },
   "outputs": [
    {
     "data": {
      "text/plain": [
       "0.01%     40767\n",
       "-0.01%    34094\n",
       "0.0%      33923\n",
       "-0.0%     30492\n",
       "-0.02%     9924\n",
       "0.02%      7987\n",
       "-0.03%     1727\n",
       "0.03%       855\n",
       "-0.04%      138\n",
       "0.04%        55\n",
       "-0.05%        6\n",
       "0.05%         1\n",
       "Name: x32, dtype: int64"
      ]
     },
     "execution_count": 11,
     "metadata": {},
     "output_type": "execute_result"
    }
   ],
   "source": [
    "df['x32'].value_counts()\n",
    "#continuous"
   ]
  },
  {
   "cell_type": "code",
   "execution_count": 12,
   "metadata": {
    "collapsed": false
   },
   "outputs": [
    {
     "data": {
      "text/plain": [
       "$237.4       6\n",
       "$341.26      6\n",
       "$-336.77     6\n",
       "$-415.46     6\n",
       "$618.22      6\n",
       "$72.42       6\n",
       "$-311.26     6\n",
       "$-378.49     5\n",
       "$-687.33     5\n",
       "$-231.0      5\n",
       "$-525.72     5\n",
       "$995.07      5\n",
       "$185.79      5\n",
       "$-744.84     5\n",
       "$-533.64     5\n",
       "$47.62       5\n",
       "$387.18      5\n",
       "$-371.18     5\n",
       "$-34.02      5\n",
       "$757.41      5\n",
       "$447.15      5\n",
       "$-391.18     5\n",
       "$-771.89     5\n",
       "$-203.24     5\n",
       "$15.62       5\n",
       "$458.98      5\n",
       "$1154.12     5\n",
       "$-134.05     5\n",
       "$-1018.16    5\n",
       "$198.09      5\n",
       "            ..\n",
       "$1166.08     1\n",
       "$557.39      1\n",
       "$-1648.28    1\n",
       "$527.18      1\n",
       "$-661.63     1\n",
       "$-670.03     1\n",
       "$59.68       1\n",
       "$1956.96     1\n",
       "$-1791.02    1\n",
       "$1850.32     1\n",
       "$673.7       1\n",
       "$-789.87     1\n",
       "$-820.84     1\n",
       "$-47.16      1\n",
       "$-746.5      1\n",
       "$1386.32     1\n",
       "$-1658.23    1\n",
       "$-847.19     1\n",
       "$1045.85     1\n",
       "$81.52       1\n",
       "$281.07      1\n",
       "$1794.93     1\n",
       "$-241.46     1\n",
       "$1481.06     1\n",
       "$-598.93     1\n",
       "$267.21      1\n",
       "$338.2       1\n",
       "$-1484.1     1\n",
       "$15.46       1\n",
       "$-260.24     1\n",
       "Name: x37, dtype: int64"
      ]
     },
     "execution_count": 12,
     "metadata": {},
     "output_type": "execute_result"
    }
   ],
   "source": [
    "df['x37'].value_counts()   \n",
    "#continuous"
   ]
  },
  {
   "cell_type": "code",
   "execution_count": 13,
   "metadata": {
    "collapsed": true
   },
   "outputs": [],
   "source": [
    "# a key idea is that I want to know how good my model is BEFORE I submit it to kaggle, \n",
    "# so I'm going to take my training example and make my own test/train split.  I'll hold my test out and use\n",
    "# that to judge my model before submitting.\n",
    "random.seed = 42\n",
    "df = pd.read_csv(\"midterm_train.csv\")\n",
    "df_train, df_test = train_test_split(df)\n",
    "df_train.to_csv(\"my_midterm_train_split.csv\", index=False)\n",
    "df_test.to_csv(\"my_midterm_test_split.csv\", index=False)"
   ]
  },
  {
   "cell_type": "code",
   "execution_count": 19,
   "metadata": {
    "collapsed": false
   },
   "outputs": [],
   "source": [
    "df2 = pd.get_dummies(df, columns=['x24','x30'] )"
   ]
  },
  {
   "cell_type": "code",
   "execution_count": 20,
   "metadata": {
    "collapsed": false
   },
   "outputs": [
    {
     "data": {
      "text/plain": [
       "Index(['x0', 'x1', 'x2', 'x3', 'x4', 'x5', 'x6', 'x7', 'x8', 'x9', 'x10',\n",
       "       'x11', 'x12', 'x13', 'x14', 'x15', 'x16', 'x17', 'x18', 'x19', 'x20',\n",
       "       'x21', 'x22', 'x23', 'x25', 'x26', 'x27', 'x28', 'x29', 'x31', 'x32',\n",
       "       'x33', 'x34', 'x35', 'x36', 'x37', 'x38', 'x39', 'x40', 'x41', 'x42',\n",
       "       'x43', 'x44', 'x45', 'x46', 'x47', 'x48', 'x49', 'y', 'x24_america',\n",
       "       'x24_asia', 'x24_euorpe', 'x30_friday', 'x30_monday', 'x30_thurday',\n",
       "       'x30_tuesday', 'x30_wednesday'],\n",
       "      dtype='object')"
      ]
     },
     "execution_count": 20,
     "metadata": {},
     "output_type": "execute_result"
    }
   ],
   "source": [
    "df2.columns"
   ]
  },
  {
   "cell_type": "code",
   "execution_count": 30,
   "metadata": {
    "collapsed": false
   },
   "outputs": [
    {
     "data": {
      "text/plain": [
       "0         0.00\n",
       "1        -0.02\n",
       "2        -0.01\n",
       "3         0.01\n",
       "4         0.01\n",
       "5        -0.01\n",
       "6        -0.01\n",
       "7         0.01\n",
       "8        -0.03\n",
       "9         0.01\n",
       "10        0.01\n",
       "11        0.02\n",
       "12        0.01\n",
       "13       -0.01\n",
       "14       -0.00\n",
       "15       -0.01\n",
       "16       -0.01\n",
       "17       -0.00\n",
       "18        0.00\n",
       "19       -0.00\n",
       "20       -0.02\n",
       "21       -0.01\n",
       "22        0.01\n",
       "23       -0.00\n",
       "24        0.00\n",
       "25        0.02\n",
       "26        0.01\n",
       "27        0.01\n",
       "28       -0.02\n",
       "29        0.01\n",
       "          ... \n",
       "159970   -0.01\n",
       "159971   -0.01\n",
       "159972    0.02\n",
       "159973    0.01\n",
       "159974    0.02\n",
       "159975   -0.01\n",
       "159976    0.00\n",
       "159977    0.02\n",
       "159978    0.01\n",
       "159979   -0.00\n",
       "159980   -0.01\n",
       "159981   -0.00\n",
       "159982   -0.02\n",
       "159983   -0.00\n",
       "159984   -0.01\n",
       "159985    0.00\n",
       "159986    0.01\n",
       "159987    0.01\n",
       "159988   -0.01\n",
       "159989   -0.01\n",
       "159990    0.00\n",
       "159991    0.01\n",
       "159992   -0.00\n",
       "159993   -0.01\n",
       "159994   -0.02\n",
       "159995    0.00\n",
       "159996   -0.01\n",
       "159997   -0.00\n",
       "159998   -0.02\n",
       "159999    0.02\n",
       "Name: x32, dtype: float64"
      ]
     },
     "execution_count": 30,
     "metadata": {},
     "output_type": "execute_result"
    }
   ],
   "source": [
    "df.x32.str.replace('$', '').str.replace('%', '').astype(float)"
   ]
  },
  {
   "cell_type": "code",
   "execution_count": 27,
   "metadata": {
    "collapsed": false
   },
   "outputs": [
    {
     "data": {
      "text/plain": [
       "0         1313.96\n",
       "1         1962.78\n",
       "2          430.47\n",
       "3        -2366.29\n",
       "4         -620.66\n",
       "5         -196.45\n",
       "6         -241.04\n",
       "7          621.35\n",
       "8         -301.89\n",
       "9         -484.09\n",
       "10        -106.65\n",
       "11        -622.76\n",
       "12         545.55\n",
       "13        1019.08\n",
       "14         960.95\n",
       "15         299.52\n",
       "16          72.83\n",
       "17         -12.09\n",
       "18        1074.27\n",
       "19        -426.46\n",
       "20        -710.18\n",
       "21         370.01\n",
       "22       -1199.52\n",
       "23         -12.09\n",
       "24        2158.38\n",
       "25        -464.60\n",
       "26        -526.08\n",
       "27       -1321.42\n",
       "28         771.15\n",
       "29          41.97\n",
       "           ...   \n",
       "159970     954.38\n",
       "159971     621.19\n",
       "159972    1032.85\n",
       "159973     729.11\n",
       "159974    -167.10\n",
       "159975     -33.14\n",
       "159976    -409.63\n",
       "159977    -126.15\n",
       "159978     191.61\n",
       "159979   -1356.91\n",
       "159980     599.35\n",
       "159981    -613.38\n",
       "159982    2251.59\n",
       "159983      -5.87\n",
       "159984     198.30\n",
       "159985   -1788.89\n",
       "159986    -118.39\n",
       "159987      15.62\n",
       "159988     134.18\n",
       "159989    -677.95\n",
       "159990   -1012.45\n",
       "159991   -1720.76\n",
       "159992   -1177.33\n",
       "159993    -818.32\n",
       "159994    -823.35\n",
       "159995    -891.96\n",
       "159996    1588.65\n",
       "159997     687.46\n",
       "159998     439.21\n",
       "159999   -1229.34\n",
       "Name: x37, dtype: float64"
      ]
     },
     "execution_count": 27,
     "metadata": {},
     "output_type": "execute_result"
    }
   ],
   "source": [
    "a"
   ]
  },
  {
   "cell_type": "code",
   "execution_count": null,
   "metadata": {
    "collapsed": true
   },
   "outputs": [],
   "source": []
  }
 ],
 "metadata": {
  "kernelspec": {
   "display_name": "Python 3",
   "language": "python",
   "name": "python3"
  },
  "language_info": {
   "codemirror_mode": {
    "name": "ipython",
    "version": 3
   },
   "file_extension": ".py",
   "mimetype": "text/x-python",
   "name": "python",
   "nbconvert_exporter": "python",
   "pygments_lexer": "ipython3",
   "version": "3.5.1"
  }
 },
 "nbformat": 4,
 "nbformat_minor": 0
}
