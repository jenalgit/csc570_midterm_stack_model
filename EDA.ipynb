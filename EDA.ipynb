{
 "cells": [
  {
   "cell_type": "markdown",
   "metadata": {},
   "source": [
    "## EDA For Midterm assignment"
   ]
  },
  {
   "cell_type": "code",
   "execution_count": 1,
   "metadata": {
    "collapsed": true
   },
   "outputs": [],
   "source": [
    "import pandas as pd\n",
    "\n",
    "import seaborn as sns\n",
    "import matplotlib.pyplot as plt\n",
    "from sklearn.cross_validation import train_test_split\n",
    "import random\n",
    "\n",
    "%matplotlib inline"
   ]
  },
  {
   "cell_type": "code",
   "execution_count": 2,
   "metadata": {
    "collapsed": true
   },
   "outputs": [],
   "source": [
    "df = pd.read_csv('midterm_train.csv')\n",
    "y = df.pop('y')"
   ]
  },
  {
   "cell_type": "code",
   "execution_count": 3,
   "metadata": {
    "collapsed": false
   },
   "outputs": [
    {
     "data": {
      "text/html": [
       "<div>\n",
       "<table border=\"1\" class=\"dataframe\">\n",
       "  <thead>\n",
       "    <tr style=\"text-align: right;\">\n",
       "      <th></th>\n",
       "      <th>x0</th>\n",
       "      <th>x1</th>\n",
       "      <th>x2</th>\n",
       "      <th>x3</th>\n",
       "      <th>x4</th>\n",
       "      <th>x5</th>\n",
       "      <th>x6</th>\n",
       "      <th>x7</th>\n",
       "      <th>x8</th>\n",
       "      <th>x9</th>\n",
       "      <th>...</th>\n",
       "      <th>x40</th>\n",
       "      <th>x41</th>\n",
       "      <th>x42</th>\n",
       "      <th>x43</th>\n",
       "      <th>x44</th>\n",
       "      <th>x45</th>\n",
       "      <th>x46</th>\n",
       "      <th>x47</th>\n",
       "      <th>x48</th>\n",
       "      <th>x49</th>\n",
       "    </tr>\n",
       "  </thead>\n",
       "  <tbody>\n",
       "    <tr>\n",
       "      <th>0</th>\n",
       "      <td>-0.166563</td>\n",
       "      <td>-3.961588</td>\n",
       "      <td>4.621113</td>\n",
       "      <td>2.481908</td>\n",
       "      <td>-1.800135</td>\n",
       "      <td>0.804684</td>\n",
       "      <td>6.718751</td>\n",
       "      <td>-14.789997</td>\n",
       "      <td>-1.040673</td>\n",
       "      <td>-4.204950</td>\n",
       "      <td>...</td>\n",
       "      <td>-10.612200</td>\n",
       "      <td>-1.497117</td>\n",
       "      <td>5.414063</td>\n",
       "      <td>-2.325655</td>\n",
       "      <td>1.674827</td>\n",
       "      <td>-0.264332</td>\n",
       "      <td>60.781427</td>\n",
       "      <td>-7.689696</td>\n",
       "      <td>0.151589</td>\n",
       "      <td>-8.040166</td>\n",
       "    </tr>\n",
       "    <tr>\n",
       "      <th>1</th>\n",
       "      <td>-0.149894</td>\n",
       "      <td>-0.585676</td>\n",
       "      <td>27.839856</td>\n",
       "      <td>4.152333</td>\n",
       "      <td>6.426802</td>\n",
       "      <td>-2.426943</td>\n",
       "      <td>40.477058</td>\n",
       "      <td>-6.725709</td>\n",
       "      <td>0.896421</td>\n",
       "      <td>0.330165</td>\n",
       "      <td>...</td>\n",
       "      <td>2.147427</td>\n",
       "      <td>36.292790</td>\n",
       "      <td>4.490915</td>\n",
       "      <td>0.762561</td>\n",
       "      <td>6.526662</td>\n",
       "      <td>1.007927</td>\n",
       "      <td>15.805696</td>\n",
       "      <td>-4.896678</td>\n",
       "      <td>-0.320283</td>\n",
       "      <td>16.719974</td>\n",
       "    </tr>\n",
       "    <tr>\n",
       "      <th>2</th>\n",
       "      <td>-0.321707</td>\n",
       "      <td>-1.429819</td>\n",
       "      <td>12.251561</td>\n",
       "      <td>6.586874</td>\n",
       "      <td>-5.304647</td>\n",
       "      <td>-11.311090</td>\n",
       "      <td>17.812850</td>\n",
       "      <td>11.060572</td>\n",
       "      <td>5.325880</td>\n",
       "      <td>-2.632984</td>\n",
       "      <td>...</td>\n",
       "      <td>-0.863137</td>\n",
       "      <td>-0.368491</td>\n",
       "      <td>9.088864</td>\n",
       "      <td>-0.689886</td>\n",
       "      <td>-2.731118</td>\n",
       "      <td>0.754200</td>\n",
       "      <td>30.856417</td>\n",
       "      <td>-7.428573</td>\n",
       "      <td>-2.090804</td>\n",
       "      <td>-7.869421</td>\n",
       "    </tr>\n",
       "    <tr>\n",
       "      <th>3</th>\n",
       "      <td>-0.245594</td>\n",
       "      <td>5.076677</td>\n",
       "      <td>-24.149632</td>\n",
       "      <td>3.637307</td>\n",
       "      <td>6.505811</td>\n",
       "      <td>2.290224</td>\n",
       "      <td>-35.111751</td>\n",
       "      <td>-18.913592</td>\n",
       "      <td>-0.337041</td>\n",
       "      <td>-5.568076</td>\n",
       "      <td>...</td>\n",
       "      <td>12.084421</td>\n",
       "      <td>15.691546</td>\n",
       "      <td>-7.467775</td>\n",
       "      <td>2.940789</td>\n",
       "      <td>-6.424112</td>\n",
       "      <td>0.419776</td>\n",
       "      <td>-72.424569</td>\n",
       "      <td>5.361375</td>\n",
       "      <td>1.806070</td>\n",
       "      <td>-7.670847</td>\n",
       "    </tr>\n",
       "    <tr>\n",
       "      <th>4</th>\n",
       "      <td>-0.273366</td>\n",
       "      <td>0.306326</td>\n",
       "      <td>-11.352593</td>\n",
       "      <td>1.676758</td>\n",
       "      <td>2.928441</td>\n",
       "      <td>-0.616824</td>\n",
       "      <td>-16.505817</td>\n",
       "      <td>27.532281</td>\n",
       "      <td>1.199715</td>\n",
       "      <td>-4.309105</td>\n",
       "      <td>...</td>\n",
       "      <td>30.004727</td>\n",
       "      <td>-13.911297</td>\n",
       "      <td>-5.229937</td>\n",
       "      <td>1.783928</td>\n",
       "      <td>3.957801</td>\n",
       "      <td>-0.096988</td>\n",
       "      <td>-14.085435</td>\n",
       "      <td>-0.208351</td>\n",
       "      <td>-0.894942</td>\n",
       "      <td>15.724742</td>\n",
       "    </tr>\n",
       "  </tbody>\n",
       "</table>\n",
       "<p>5 rows × 50 columns</p>\n",
       "</div>"
      ],
      "text/plain": [
       "         x0        x1         x2        x3        x4         x5         x6  \\\n",
       "0 -0.166563 -3.961588   4.621113  2.481908 -1.800135   0.804684   6.718751   \n",
       "1 -0.149894 -0.585676  27.839856  4.152333  6.426802  -2.426943  40.477058   \n",
       "2 -0.321707 -1.429819  12.251561  6.586874 -5.304647 -11.311090  17.812850   \n",
       "3 -0.245594  5.076677 -24.149632  3.637307  6.505811   2.290224 -35.111751   \n",
       "4 -0.273366  0.306326 -11.352593  1.676758  2.928441  -0.616824 -16.505817   \n",
       "\n",
       "          x7        x8        x9    ...            x40        x41       x42  \\\n",
       "0 -14.789997 -1.040673 -4.204950    ...     -10.612200  -1.497117  5.414063   \n",
       "1  -6.725709  0.896421  0.330165    ...       2.147427  36.292790  4.490915   \n",
       "2  11.060572  5.325880 -2.632984    ...      -0.863137  -0.368491  9.088864   \n",
       "3 -18.913592 -0.337041 -5.568076    ...      12.084421  15.691546 -7.467775   \n",
       "4  27.532281  1.199715 -4.309105    ...      30.004727 -13.911297 -5.229937   \n",
       "\n",
       "        x43       x44       x45        x46       x47       x48        x49  \n",
       "0 -2.325655  1.674827 -0.264332  60.781427 -7.689696  0.151589  -8.040166  \n",
       "1  0.762561  6.526662  1.007927  15.805696 -4.896678 -0.320283  16.719974  \n",
       "2 -0.689886 -2.731118  0.754200  30.856417 -7.428573 -2.090804  -7.869421  \n",
       "3  2.940789 -6.424112  0.419776 -72.424569  5.361375  1.806070  -7.670847  \n",
       "4  1.783928  3.957801 -0.096988 -14.085435 -0.208351 -0.894942  15.724742  \n",
       "\n",
       "[5 rows x 50 columns]"
      ]
     },
     "execution_count": 3,
     "metadata": {},
     "output_type": "execute_result"
    }
   ],
   "source": [
    "df.head()"
   ]
  },
  {
   "cell_type": "code",
   "execution_count": 4,
   "metadata": {
    "collapsed": false
   },
   "outputs": [
    {
     "data": {
      "text/html": [
       "<div>\n",
       "<table border=\"1\" class=\"dataframe\">\n",
       "  <thead>\n",
       "    <tr style=\"text-align: right;\">\n",
       "      <th></th>\n",
       "      <th>x0</th>\n",
       "      <th>x1</th>\n",
       "      <th>x2</th>\n",
       "      <th>x3</th>\n",
       "      <th>x4</th>\n",
       "      <th>x5</th>\n",
       "      <th>x6</th>\n",
       "      <th>x7</th>\n",
       "      <th>x8</th>\n",
       "      <th>x9</th>\n",
       "      <th>...</th>\n",
       "      <th>x40</th>\n",
       "      <th>x41</th>\n",
       "      <th>x42</th>\n",
       "      <th>x43</th>\n",
       "      <th>x44</th>\n",
       "      <th>x45</th>\n",
       "      <th>x46</th>\n",
       "      <th>x47</th>\n",
       "      <th>x48</th>\n",
       "      <th>x49</th>\n",
       "    </tr>\n",
       "  </thead>\n",
       "  <tbody>\n",
       "    <tr>\n",
       "      <th>count</th>\n",
       "      <td>159974.000000</td>\n",
       "      <td>159975.000000</td>\n",
       "      <td>159962.000000</td>\n",
       "      <td>159963.000000</td>\n",
       "      <td>159974.000000</td>\n",
       "      <td>159963.000000</td>\n",
       "      <td>159974.000000</td>\n",
       "      <td>159973.000000</td>\n",
       "      <td>159979.000000</td>\n",
       "      <td>159970.000000</td>\n",
       "      <td>...</td>\n",
       "      <td>159964.000000</td>\n",
       "      <td>159960.000000</td>\n",
       "      <td>159974.000000</td>\n",
       "      <td>159963.000000</td>\n",
       "      <td>159960.000000</td>\n",
       "      <td>159971.000000</td>\n",
       "      <td>159969.000000</td>\n",
       "      <td>159963.000000</td>\n",
       "      <td>159968.000000</td>\n",
       "      <td>159968.000000</td>\n",
       "    </tr>\n",
       "    <tr>\n",
       "      <th>mean</th>\n",
       "      <td>-0.001028</td>\n",
       "      <td>0.001358</td>\n",
       "      <td>-1.150145</td>\n",
       "      <td>-0.024637</td>\n",
       "      <td>-0.000549</td>\n",
       "      <td>0.013582</td>\n",
       "      <td>-1.670670</td>\n",
       "      <td>-7.692795</td>\n",
       "      <td>-0.030540</td>\n",
       "      <td>0.005462</td>\n",
       "      <td>...</td>\n",
       "      <td>-2.316526</td>\n",
       "      <td>6.701076</td>\n",
       "      <td>-1.833820</td>\n",
       "      <td>-0.002091</td>\n",
       "      <td>-0.006250</td>\n",
       "      <td>0.000885</td>\n",
       "      <td>-12.755395</td>\n",
       "      <td>0.028622</td>\n",
       "      <td>-0.000224</td>\n",
       "      <td>-0.674224</td>\n",
       "    </tr>\n",
       "    <tr>\n",
       "      <th>std</th>\n",
       "      <td>0.371137</td>\n",
       "      <td>6.340632</td>\n",
       "      <td>13.273480</td>\n",
       "      <td>8.065032</td>\n",
       "      <td>6.382293</td>\n",
       "      <td>7.670076</td>\n",
       "      <td>19.298665</td>\n",
       "      <td>30.542264</td>\n",
       "      <td>8.901185</td>\n",
       "      <td>6.355040</td>\n",
       "      <td>...</td>\n",
       "      <td>17.043549</td>\n",
       "      <td>18.680196</td>\n",
       "      <td>5.110705</td>\n",
       "      <td>1.534952</td>\n",
       "      <td>4.164595</td>\n",
       "      <td>0.396621</td>\n",
       "      <td>36.608641</td>\n",
       "      <td>4.788157</td>\n",
       "      <td>1.935501</td>\n",
       "      <td>15.036738</td>\n",
       "    </tr>\n",
       "    <tr>\n",
       "      <th>min</th>\n",
       "      <td>-1.592635</td>\n",
       "      <td>-26.278302</td>\n",
       "      <td>-59.394048</td>\n",
       "      <td>-35.476594</td>\n",
       "      <td>-28.467536</td>\n",
       "      <td>-33.822988</td>\n",
       "      <td>-86.354483</td>\n",
       "      <td>-181.506976</td>\n",
       "      <td>-37.691045</td>\n",
       "      <td>-27.980659</td>\n",
       "      <td>...</td>\n",
       "      <td>-74.059196</td>\n",
       "      <td>-82.167224</td>\n",
       "      <td>-27.933750</td>\n",
       "      <td>-6.876234</td>\n",
       "      <td>-17.983487</td>\n",
       "      <td>-1.753221</td>\n",
       "      <td>-201.826828</td>\n",
       "      <td>-21.086333</td>\n",
       "      <td>-8.490155</td>\n",
       "      <td>-65.791191</td>\n",
       "    </tr>\n",
       "    <tr>\n",
       "      <th>25%</th>\n",
       "      <td>-0.251641</td>\n",
       "      <td>-4.260973</td>\n",
       "      <td>-10.166536</td>\n",
       "      <td>-5.454438</td>\n",
       "      <td>-4.313118</td>\n",
       "      <td>-5.148130</td>\n",
       "      <td>-14.780146</td>\n",
       "      <td>-27.324771</td>\n",
       "      <td>-6.031058</td>\n",
       "      <td>-4.260619</td>\n",
       "      <td>...</td>\n",
       "      <td>-13.953629</td>\n",
       "      <td>-5.804080</td>\n",
       "      <td>-5.162869</td>\n",
       "      <td>-1.039677</td>\n",
       "      <td>-2.812055</td>\n",
       "      <td>-0.266518</td>\n",
       "      <td>-36.428329</td>\n",
       "      <td>-3.216016</td>\n",
       "      <td>-1.320800</td>\n",
       "      <td>-10.931753</td>\n",
       "    </tr>\n",
       "    <tr>\n",
       "      <th>50%</th>\n",
       "      <td>-0.002047</td>\n",
       "      <td>0.004813</td>\n",
       "      <td>-1.340932</td>\n",
       "      <td>-0.031408</td>\n",
       "      <td>0.000857</td>\n",
       "      <td>0.014118</td>\n",
       "      <td>-1.948594</td>\n",
       "      <td>-6.956789</td>\n",
       "      <td>-0.016840</td>\n",
       "      <td>0.006045</td>\n",
       "      <td>...</td>\n",
       "      <td>-2.701867</td>\n",
       "      <td>6.840110</td>\n",
       "      <td>-1.923754</td>\n",
       "      <td>-0.004385</td>\n",
       "      <td>-0.010484</td>\n",
       "      <td>0.001645</td>\n",
       "      <td>-12.982497</td>\n",
       "      <td>0.035865</td>\n",
       "      <td>-0.011993</td>\n",
       "      <td>-0.574410</td>\n",
       "    </tr>\n",
       "    <tr>\n",
       "      <th>75%</th>\n",
       "      <td>0.248532</td>\n",
       "      <td>4.284220</td>\n",
       "      <td>7.871676</td>\n",
       "      <td>5.445179</td>\n",
       "      <td>4.306660</td>\n",
       "      <td>5.190749</td>\n",
       "      <td>11.446931</td>\n",
       "      <td>12.217071</td>\n",
       "      <td>5.972349</td>\n",
       "      <td>4.305734</td>\n",
       "      <td>...</td>\n",
       "      <td>8.981616</td>\n",
       "      <td>19.266367</td>\n",
       "      <td>1.453507</td>\n",
       "      <td>1.033275</td>\n",
       "      <td>2.783274</td>\n",
       "      <td>0.269049</td>\n",
       "      <td>11.445443</td>\n",
       "      <td>3.268028</td>\n",
       "      <td>1.317703</td>\n",
       "      <td>9.651072</td>\n",
       "    </tr>\n",
       "    <tr>\n",
       "      <th>max</th>\n",
       "      <td>1.600849</td>\n",
       "      <td>27.988178</td>\n",
       "      <td>63.545653</td>\n",
       "      <td>38.906025</td>\n",
       "      <td>26.247812</td>\n",
       "      <td>35.550110</td>\n",
       "      <td>92.390605</td>\n",
       "      <td>149.150634</td>\n",
       "      <td>39.049831</td>\n",
       "      <td>27.377842</td>\n",
       "      <td>...</td>\n",
       "      <td>88.824477</td>\n",
       "      <td>100.050432</td>\n",
       "      <td>22.668041</td>\n",
       "      <td>6.680922</td>\n",
       "      <td>19.069759</td>\n",
       "      <td>1.669205</td>\n",
       "      <td>150.859415</td>\n",
       "      <td>20.836854</td>\n",
       "      <td>8.226552</td>\n",
       "      <td>66.877604</td>\n",
       "    </tr>\n",
       "  </tbody>\n",
       "</table>\n",
       "<p>8 rows × 45 columns</p>\n",
       "</div>"
      ],
      "text/plain": [
       "                  x0             x1             x2             x3  \\\n",
       "count  159974.000000  159975.000000  159962.000000  159963.000000   \n",
       "mean       -0.001028       0.001358      -1.150145      -0.024637   \n",
       "std         0.371137       6.340632      13.273480       8.065032   \n",
       "min        -1.592635     -26.278302     -59.394048     -35.476594   \n",
       "25%        -0.251641      -4.260973     -10.166536      -5.454438   \n",
       "50%        -0.002047       0.004813      -1.340932      -0.031408   \n",
       "75%         0.248532       4.284220       7.871676       5.445179   \n",
       "max         1.600849      27.988178      63.545653      38.906025   \n",
       "\n",
       "                  x4             x5             x6             x7  \\\n",
       "count  159974.000000  159963.000000  159974.000000  159973.000000   \n",
       "mean       -0.000549       0.013582      -1.670670      -7.692795   \n",
       "std         6.382293       7.670076      19.298665      30.542264   \n",
       "min       -28.467536     -33.822988     -86.354483    -181.506976   \n",
       "25%        -4.313118      -5.148130     -14.780146     -27.324771   \n",
       "50%         0.000857       0.014118      -1.948594      -6.956789   \n",
       "75%         4.306660       5.190749      11.446931      12.217071   \n",
       "max        26.247812      35.550110      92.390605     149.150634   \n",
       "\n",
       "                  x8             x9      ...                  x40  \\\n",
       "count  159979.000000  159970.000000      ...        159964.000000   \n",
       "mean       -0.030540       0.005462      ...            -2.316526   \n",
       "std         8.901185       6.355040      ...            17.043549   \n",
       "min       -37.691045     -27.980659      ...           -74.059196   \n",
       "25%        -6.031058      -4.260619      ...           -13.953629   \n",
       "50%        -0.016840       0.006045      ...            -2.701867   \n",
       "75%         5.972349       4.305734      ...             8.981616   \n",
       "max        39.049831      27.377842      ...            88.824477   \n",
       "\n",
       "                 x41            x42            x43            x44  \\\n",
       "count  159960.000000  159974.000000  159963.000000  159960.000000   \n",
       "mean        6.701076      -1.833820      -0.002091      -0.006250   \n",
       "std        18.680196       5.110705       1.534952       4.164595   \n",
       "min       -82.167224     -27.933750      -6.876234     -17.983487   \n",
       "25%        -5.804080      -5.162869      -1.039677      -2.812055   \n",
       "50%         6.840110      -1.923754      -0.004385      -0.010484   \n",
       "75%        19.266367       1.453507       1.033275       2.783274   \n",
       "max       100.050432      22.668041       6.680922      19.069759   \n",
       "\n",
       "                 x45            x46            x47            x48  \\\n",
       "count  159971.000000  159969.000000  159963.000000  159968.000000   \n",
       "mean        0.000885     -12.755395       0.028622      -0.000224   \n",
       "std         0.396621      36.608641       4.788157       1.935501   \n",
       "min        -1.753221    -201.826828     -21.086333      -8.490155   \n",
       "25%        -0.266518     -36.428329      -3.216016      -1.320800   \n",
       "50%         0.001645     -12.982497       0.035865      -0.011993   \n",
       "75%         0.269049      11.445443       3.268028       1.317703   \n",
       "max         1.669205     150.859415      20.836854       8.226552   \n",
       "\n",
       "                 x49  \n",
       "count  159968.000000  \n",
       "mean       -0.674224  \n",
       "std        15.036738  \n",
       "min       -65.791191  \n",
       "25%       -10.931753  \n",
       "50%        -0.574410  \n",
       "75%         9.651072  \n",
       "max        66.877604  \n",
       "\n",
       "[8 rows x 45 columns]"
      ]
     },
     "execution_count": 4,
     "metadata": {},
     "output_type": "execute_result"
    }
   ],
   "source": [
    "df.describe()\n",
    "# Things I see here include 45 variables summarized and 50 variables above.  That must mean 5 non numeric fields"
   ]
  },
  {
   "cell_type": "code",
   "execution_count": 5,
   "metadata": {
    "collapsed": false
   },
   "outputs": [
    {
     "data": {
      "text/plain": [
       "(160000, 45)"
      ]
     },
     "execution_count": 5,
     "metadata": {},
     "output_type": "execute_result"
    }
   ],
   "source": [
    "# numeric variables\n",
    "numeric_variables = list(df.dtypes[df.dtypes != \"object\"].index)\n",
    "df[numeric_variables].shape"
   ]
  },
  {
   "cell_type": "code",
   "execution_count": 6,
   "metadata": {
    "collapsed": false
   },
   "outputs": [
    {
     "data": {
      "text/plain": [
       "(160000, 5)"
      ]
     },
     "execution_count": 6,
     "metadata": {},
     "output_type": "execute_result"
    }
   ],
   "source": [
    "# non numeric variables\n",
    "categorical_variables = list(df.dtypes[df.dtypes == 'object'].index)\n",
    "df[categorical_variables].shape"
   ]
  },
  {
   "cell_type": "code",
   "execution_count": 7,
   "metadata": {
    "collapsed": false
   },
   "outputs": [
    {
     "data": {
      "text/html": [
       "<div>\n",
       "<table border=\"1\" class=\"dataframe\">\n",
       "  <thead>\n",
       "    <tr style=\"text-align: right;\">\n",
       "      <th></th>\n",
       "      <th>x24</th>\n",
       "      <th>x29</th>\n",
       "      <th>x30</th>\n",
       "      <th>x32</th>\n",
       "      <th>x37</th>\n",
       "    </tr>\n",
       "  </thead>\n",
       "  <tbody>\n",
       "    <tr>\n",
       "      <th>0</th>\n",
       "      <td>euorpe</td>\n",
       "      <td>July</td>\n",
       "      <td>tuesday</td>\n",
       "      <td>0.0%</td>\n",
       "      <td>$1313.96</td>\n",
       "    </tr>\n",
       "    <tr>\n",
       "      <th>1</th>\n",
       "      <td>asia</td>\n",
       "      <td>Aug</td>\n",
       "      <td>wednesday</td>\n",
       "      <td>-0.02%</td>\n",
       "      <td>$1962.78</td>\n",
       "    </tr>\n",
       "    <tr>\n",
       "      <th>2</th>\n",
       "      <td>asia</td>\n",
       "      <td>July</td>\n",
       "      <td>wednesday</td>\n",
       "      <td>-0.01%</td>\n",
       "      <td>$430.47</td>\n",
       "    </tr>\n",
       "    <tr>\n",
       "      <th>3</th>\n",
       "      <td>asia</td>\n",
       "      <td>July</td>\n",
       "      <td>wednesday</td>\n",
       "      <td>0.01%</td>\n",
       "      <td>$-2366.29</td>\n",
       "    </tr>\n",
       "    <tr>\n",
       "      <th>4</th>\n",
       "      <td>asia</td>\n",
       "      <td>July</td>\n",
       "      <td>tuesday</td>\n",
       "      <td>0.01%</td>\n",
       "      <td>$-620.66</td>\n",
       "    </tr>\n",
       "  </tbody>\n",
       "</table>\n",
       "</div>"
      ],
      "text/plain": [
       "      x24   x29        x30     x32        x37\n",
       "0  euorpe  July    tuesday    0.0%   $1313.96\n",
       "1    asia   Aug  wednesday  -0.02%   $1962.78\n",
       "2    asia  July  wednesday  -0.01%    $430.47\n",
       "3    asia  July  wednesday   0.01%  $-2366.29\n",
       "4    asia  July    tuesday   0.01%   $-620.66"
      ]
     },
     "execution_count": 7,
     "metadata": {},
     "output_type": "execute_result"
    }
   ],
   "source": [
    "# taking a quick look at the categoricals\n",
    "df[categorical_variables].head()"
   ]
  },
  {
   "cell_type": "code",
   "execution_count": 8,
   "metadata": {
    "collapsed": false
   },
   "outputs": [
    {
     "data": {
      "text/plain": [
       "asia       138965\n",
       "euorpe      16538\n",
       "america      4469\n",
       "Name: x24, dtype: int64"
      ]
     },
     "execution_count": 8,
     "metadata": {},
     "output_type": "execute_result"
    }
   ],
   "source": [
    "df['x24'].value_counts()"
   ]
  },
  {
   "cell_type": "code",
   "execution_count": 9,
   "metadata": {
    "collapsed": false
   },
   "outputs": [
    {
     "data": {
      "text/plain": [
       "July       45569\n",
       "Jun        41329\n",
       "Aug        29406\n",
       "May        21939\n",
       "sept.      10819\n",
       "Apr         6761\n",
       "Oct         2407\n",
       "Mar         1231\n",
       "Nov          337\n",
       "Feb          140\n",
       "Dev           23\n",
       "January        9\n",
       "Name: x29, dtype: int64"
      ]
     },
     "execution_count": 9,
     "metadata": {},
     "output_type": "execute_result"
    }
   ],
   "source": [
    "df['x29'].value_counts()"
   ]
  },
  {
   "cell_type": "code",
   "execution_count": 10,
   "metadata": {
    "collapsed": false
   },
   "outputs": [
    {
     "data": {
      "text/plain": [
       "wednesday    101535\n",
       "thurday       29429\n",
       "tuesday       27954\n",
       "friday          564\n",
       "monday          488\n",
       "Name: x30, dtype: int64"
      ]
     },
     "execution_count": 10,
     "metadata": {},
     "output_type": "execute_result"
    }
   ],
   "source": [
    "df['x30'].value_counts()"
   ]
  },
  {
   "cell_type": "code",
   "execution_count": 11,
   "metadata": {
    "collapsed": false
   },
   "outputs": [
    {
     "data": {
      "text/plain": [
       "0.01%     40767\n",
       "-0.01%    34094\n",
       "0.0%      33923\n",
       "-0.0%     30492\n",
       "-0.02%     9924\n",
       "0.02%      7987\n",
       "-0.03%     1727\n",
       "0.03%       855\n",
       "-0.04%      138\n",
       "0.04%        55\n",
       "-0.05%        6\n",
       "0.05%         1\n",
       "Name: x32, dtype: int64"
      ]
     },
     "execution_count": 11,
     "metadata": {},
     "output_type": "execute_result"
    }
   ],
   "source": [
    "df['x32'].value_counts()\n",
    "#continuous"
   ]
  },
  {
   "cell_type": "code",
   "execution_count": 12,
   "metadata": {
    "collapsed": false
   },
   "outputs": [
    {
     "data": {
      "text/plain": [
       "$237.4       6\n",
       "$341.26      6\n",
       "$-336.77     6\n",
       "$-415.46     6\n",
       "$618.22      6\n",
       "$72.42       6\n",
       "$-311.26     6\n",
       "$-378.49     5\n",
       "$-687.33     5\n",
       "$-231.0      5\n",
       "$-525.72     5\n",
       "$995.07      5\n",
       "$185.79      5\n",
       "$-744.84     5\n",
       "$-533.64     5\n",
       "$47.62       5\n",
       "$387.18      5\n",
       "$-371.18     5\n",
       "$-34.02      5\n",
       "$757.41      5\n",
       "$447.15      5\n",
       "$-391.18     5\n",
       "$-771.89     5\n",
       "$-203.24     5\n",
       "$15.62       5\n",
       "$458.98      5\n",
       "$1154.12     5\n",
       "$-134.05     5\n",
       "$-1018.16    5\n",
       "$198.09      5\n",
       "            ..\n",
       "$1166.08     1\n",
       "$557.39      1\n",
       "$-1648.28    1\n",
       "$527.18      1\n",
       "$-661.63     1\n",
       "$-670.03     1\n",
       "$59.68       1\n",
       "$1956.96     1\n",
       "$-1791.02    1\n",
       "$1850.32     1\n",
       "$673.7       1\n",
       "$-789.87     1\n",
       "$-820.84     1\n",
       "$-47.16      1\n",
       "$-746.5      1\n",
       "$1386.32     1\n",
       "$-1658.23    1\n",
       "$-847.19     1\n",
       "$1045.85     1\n",
       "$81.52       1\n",
       "$281.07      1\n",
       "$1794.93     1\n",
       "$-241.46     1\n",
       "$1481.06     1\n",
       "$-598.93     1\n",
       "$267.21      1\n",
       "$338.2       1\n",
       "$-1484.1     1\n",
       "$15.46       1\n",
       "$-260.24     1\n",
       "Name: x37, dtype: int64"
      ]
     },
     "execution_count": 12,
     "metadata": {},
     "output_type": "execute_result"
    }
   ],
   "source": [
    "df['x37'].value_counts()   \n",
    "#continuous"
   ]
  },
  {
   "cell_type": "code",
   "execution_count": 13,
   "metadata": {
    "collapsed": true
   },
   "outputs": [],
   "source": [
    "# a key idea is that I want to know how good my model is BEFORE I submit it to kaggle, \n",
    "# so I'm going to take my training example and make my own test/train split.  I'll hold my test out and use\n",
    "# that to judge my model before submitting.\n",
    "random.seed = 42\n",
    "df = pd.read_csv(\"midterm_train.csv\")\n",
    "df_train, df_test = train_test_split(df)\n",
    "df_train.to_csv(\"my_midterm_train_split.csv\", index=False)\n",
    "df_test.to_csv(\"my_midterm_test_split.csv\", index=False)"
   ]
  },
  {
   "cell_type": "code",
   "execution_count": 19,
   "metadata": {
    "collapsed": false
   },
   "outputs": [],
   "source": [
    "df2 = pd.get_dummies(df, columns=['x24','x30'] )"
   ]
  },
  {
   "cell_type": "code",
   "execution_count": 20,
   "metadata": {
    "collapsed": false
   },
   "outputs": [
    {
     "data": {
      "text/plain": [
       "Index(['x0', 'x1', 'x2', 'x3', 'x4', 'x5', 'x6', 'x7', 'x8', 'x9', 'x10',\n",
       "       'x11', 'x12', 'x13', 'x14', 'x15', 'x16', 'x17', 'x18', 'x19', 'x20',\n",
       "       'x21', 'x22', 'x23', 'x25', 'x26', 'x27', 'x28', 'x29', 'x31', 'x32',\n",
       "       'x33', 'x34', 'x35', 'x36', 'x37', 'x38', 'x39', 'x40', 'x41', 'x42',\n",
       "       'x43', 'x44', 'x45', 'x46', 'x47', 'x48', 'x49', 'y', 'x24_america',\n",
       "       'x24_asia', 'x24_euorpe', 'x30_friday', 'x30_monday', 'x30_thurday',\n",
       "       'x30_tuesday', 'x30_wednesday'],\n",
       "      dtype='object')"
      ]
     },
     "execution_count": 20,
     "metadata": {},
     "output_type": "execute_result"
    }
   ],
   "source": [
    "df2.columns"
   ]
  },
  {
   "cell_type": "code",
   "execution_count": 30,
   "metadata": {
    "collapsed": false
   },
   "outputs": [
    {
     "data": {
      "text/plain": [
       "0         0.00\n",
       "1        -0.02\n",
       "2        -0.01\n",
       "3         0.01\n",
       "4         0.01\n",
       "5        -0.01\n",
       "6        -0.01\n",
       "7         0.01\n",
       "8        -0.03\n",
       "9         0.01\n",
       "10        0.01\n",
       "11        0.02\n",
       "12        0.01\n",
       "13       -0.01\n",
       "14       -0.00\n",
       "15       -0.01\n",
       "16       -0.01\n",
       "17       -0.00\n",
       "18        0.00\n",
       "19       -0.00\n",
       "20       -0.02\n",
       "21       -0.01\n",
       "22        0.01\n",
       "23       -0.00\n",
       "24        0.00\n",
       "25        0.02\n",
       "26        0.01\n",
       "27        0.01\n",
       "28       -0.02\n",
       "29        0.01\n",
       "          ... \n",
       "159970   -0.01\n",
       "159971   -0.01\n",
       "159972    0.02\n",
       "159973    0.01\n",
       "159974    0.02\n",
       "159975   -0.01\n",
       "159976    0.00\n",
       "159977    0.02\n",
       "159978    0.01\n",
       "159979   -0.00\n",
       "159980   -0.01\n",
       "159981   -0.00\n",
       "159982   -0.02\n",
       "159983   -0.00\n",
       "159984   -0.01\n",
       "159985    0.00\n",
       "159986    0.01\n",
       "159987    0.01\n",
       "159988   -0.01\n",
       "159989   -0.01\n",
       "159990    0.00\n",
       "159991    0.01\n",
       "159992   -0.00\n",
       "159993   -0.01\n",
       "159994   -0.02\n",
       "159995    0.00\n",
       "159996   -0.01\n",
       "159997   -0.00\n",
       "159998   -0.02\n",
       "159999    0.02\n",
       "Name: x32, dtype: float64"
      ]
     },
     "execution_count": 30,
     "metadata": {},
     "output_type": "execute_result"
    }
   ],
   "source": [
    "df.x32.str.replace('$', '').str.replace('%', '').astype(float)"
   ]
  },
  {
   "cell_type": "code",
   "execution_count": 27,
   "metadata": {
    "collapsed": false
   },
   "outputs": [
    {
     "data": {
      "text/plain": [
       "0         1313.96\n",
       "1         1962.78\n",
       "2          430.47\n",
       "3        -2366.29\n",
       "4         -620.66\n",
       "5         -196.45\n",
       "6         -241.04\n",
       "7          621.35\n",
       "8         -301.89\n",
       "9         -484.09\n",
       "10        -106.65\n",
       "11        -622.76\n",
       "12         545.55\n",
       "13        1019.08\n",
       "14         960.95\n",
       "15         299.52\n",
       "16          72.83\n",
       "17         -12.09\n",
       "18        1074.27\n",
       "19        -426.46\n",
       "20        -710.18\n",
       "21         370.01\n",
       "22       -1199.52\n",
       "23         -12.09\n",
       "24        2158.38\n",
       "25        -464.60\n",
       "26        -526.08\n",
       "27       -1321.42\n",
       "28         771.15\n",
       "29          41.97\n",
       "           ...   \n",
       "159970     954.38\n",
       "159971     621.19\n",
       "159972    1032.85\n",
       "159973     729.11\n",
       "159974    -167.10\n",
       "159975     -33.14\n",
       "159976    -409.63\n",
       "159977    -126.15\n",
       "159978     191.61\n",
       "159979   -1356.91\n",
       "159980     599.35\n",
       "159981    -613.38\n",
       "159982    2251.59\n",
       "159983      -5.87\n",
       "159984     198.30\n",
       "159985   -1788.89\n",
       "159986    -118.39\n",
       "159987      15.62\n",
       "159988     134.18\n",
       "159989    -677.95\n",
       "159990   -1012.45\n",
       "159991   -1720.76\n",
       "159992   -1177.33\n",
       "159993    -818.32\n",
       "159994    -823.35\n",
       "159995    -891.96\n",
       "159996    1588.65\n",
       "159997     687.46\n",
       "159998     439.21\n",
       "159999   -1229.34\n",
       "Name: x37, dtype: float64"
      ]
     },
     "execution_count": 27,
     "metadata": {},
     "output_type": "execute_result"
    }
   ],
   "source": [
    "a"
   ]
  },
  {
   "cell_type": "code",
   "execution_count": null,
   "metadata": {
    "collapsed": true
   },
   "outputs": [],
   "source": []
  }
 ],
 "metadata": {
  "kernelspec": {
   "display_name": "Python 3",
   "language": "python",
   "name": "python3"
  },
  "language_info": {
   "codemirror_mode": {
    "name": "ipython",
    "version": 3
   },
   "file_extension": ".py",
   "mimetype": "text/x-python",
   "name": "python",
   "nbconvert_exporter": "python",
   "pygments_lexer": "ipython3",
   "version": "3.5.1"
  }
 },
 "nbformat": 4,
 "nbformat_minor": 0
}
